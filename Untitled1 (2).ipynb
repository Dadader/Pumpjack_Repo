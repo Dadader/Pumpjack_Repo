{
  "cells": [
    {
      "cell_type": "markdown",
      "metadata": {
        "id": "vQCBI56KTMIB"
      },
      "source": [
        "**Importing Files.**"
      ]
    },
    {
      "cell_type": "code",
      "execution_count": null,
      "metadata": {
        "id": "jrWuWeYDMWhY"
      },
      "outputs": [],
      "source": [
        "import numpy as np\n",
        "import scipy.integrate as spi\n",
        "import matplotlib.pyplot as plt\n"
      ]
    },
    {
      "cell_type": "markdown",
      "metadata": {
        "id": "FHpk5sCQTfeV"
      },
      "source": [
        "**Initialization**\n",
        "\n"
      ]
    },
    {
      "cell_type": "code",
      "execution_count": null,
      "metadata": {
        "id": "7AV3DdKuUo3h"
      },
      "outputs": [],
      "source": [
        "P=3; # period value to integrate continous value between [0,3]\n",
        "BT=-6 # INTIAL TIME TO START THE SERIES\n",
        "ET=6 # FINAL TIME\n",
        "FS=1000 # NO OF DISCRETE VALUES TO BE GENERATED"
      ]
    },
    {
      "cell_type": "markdown",
      "metadata": {
        "id": "aZ9LPaeUWNGq"
      },
      "source": [
        "Let t be an independent varaible.\n",
        "f(t)=((tmodP)−(P/2))**3 , with period P=3"
      ]
    },
    {
      "cell_type": "code",
      "execution_count": null,
      "metadata": {
        "id": "XtTVnfKMWXos"
      },
      "outputs": [],
      "source": [
        "f = lambda t: ((t % P) - (P / 2.)) ** 3"
      ]
    },
    {
      "cell_type": "markdown",
      "metadata": {
        "id": "fMnI7PSYX-yA"
      },
      "source": [
        "Discrete values of t between bt and ET\n"
      ]
    },
    {
      "cell_type": "code",
      "execution_count": null,
      "metadata": {
        "id": "Qff5NOX3YJxJ"
      },
      "outputs": [],
      "source": [
        "t_range = np.linspace(BT, ET, FS)\n",
        "y_true = f(t_range) #the true f(t)"
      ]
    },
    {
      "cell_type": "markdown",
      "metadata": {
        "id": "lWutjhYrdrZH"
      },
      "source": [
        "function that computes the real fourier couples of coefficients (a0, 0), (a1, b1)...(aN, bN)"
      ]
    },
    {
      "cell_type": "code",
      "execution_count": null,
      "metadata": {
        "id": "OGq2SjVndt7c"
      },
      "outputs": [],
      "source": [
        "def compute_real_fourier_coeffs(func, N):\n",
        "    result = []\n",
        "    for n in range(N+1):\n",
        "        an = (2./P) * spi.quad(lambda t: func(t) * np.cos(2 * np.pi * n * t / P), 0, P)[0]\n",
        "        bn = (2./P) * spi.quad(lambda t: func(t) * np.sin(2 * np.pi * n * t / P), 0, P)[0]\n",
        "        result.append((an, bn))\n",
        "    return np.array(result)"
      ]
    },
    {
      "cell_type": "markdown",
      "metadata": {
        "id": "q2BGTJ-6dx8t"
      },
      "source": [
        "function that computes the real form Fourier series using an and bn coefficients"
      ]
    },
    {
      "cell_type": "code",
      "execution_count": null,
      "metadata": {
        "id": "4xCRLgOHd1Tu"
      },
      "outputs": [],
      "source": [
        "def fit_func_by_fourier_series_with_real_coeffs(t, AB):\n",
        "    result = 0.\n",
        "    A = AB[:,0]\n",
        "    B = AB[:,1]\n",
        "    for n in range(0, len(AB)):\n",
        "        if n > 0:\n",
        "            result +=  A[n] * np.cos(2. * np.pi * n * t / P) + B[n] * np.sin(2. * np.pi * n * t / P)\n",
        "        else:\n",
        "            result +=  A[0]/2.\n",
        "    return result"
      ]
    },
    {
      "cell_type": "markdown",
      "metadata": {
        "id": "qpLBdQ8reD8h"
      },
      "source": [
        "**Plotting graph**"
      ]
    },
    {
      "cell_type": "code",
      "execution_count": 28,
      "metadata": {
        "id": "WKDU8V7sfHSk"
      },
      "outputs": [],
      "source": [
        "def plot_graph():\n",
        "  P=input(\"Enter Period for fourier Series:\")\n",
        "  maxN=8\n",
        "  COLs = 2 #cols of plt\n",
        "  ROWs = 1 + (maxN-1) // COLs #rows of plt\n",
        "  plt.rcParams['font.size'] = 8\n",
        "  fig, axs = plt.subplots(ROWs, COLs)\n",
        "  fig.tight_layout(rect=[0, 0, 1, 0.95], pad=3.0)\n",
        "  fig.suptitle('f(t) = ((t % P) - (P / 2.)) ** 3 where P=' + str(P))\n",
        "\n",
        "  #plot, in the range from BT to ET, the true f(t) in blue and the approximation in red\n",
        "  for N in range(1, maxN + 1):\n",
        "      AB = compute_real_fourier_coeffs(f, N)\n",
        "      #AB contains the list of couples of (an, bn) coefficients for n in 1..N interval.\n",
        "\n",
        "      y_approx = fit_func_by_fourier_series_with_real_coeffs(t_range, AB)\n",
        "      #y_approx contains the discrete values of approximation obtained by the Fourier series\n",
        "\n",
        "      row = (N-1) // COLs\n",
        "      col = (N-1) % COLs\n",
        "      axs[row, col].set_title('case N=' + str(N))\n",
        "      axs[row, col].scatter(t_range, y_true, color='blue', s=1, marker='.')\n",
        "      axs[row, col].scatter(t_range, y_approx, color='red', s=2, marker='.')\n",
        "  plt.show()"
      ]
    },
    {
      "cell_type": "code",
      "source": [
        "plot_graph();"
      ],
      "metadata": {
        "colab": {
          "base_uri": "https://localhost:8080/",
          "height": 306
        },
        "id": "zG_-6eraiYJD",
        "outputId": "ccc34d0a-58dd-4bcb-fb33-2ce8001e84a7"
      },
      "execution_count": 29,
      "outputs": [
        {
          "name": "stdout",
          "output_type": "stream",
          "text": [
            "Enter Period for fourier Series:4\n"
          ]
        },
        {
          "output_type": "display_data",
          "data": {
            "text/plain": [
              "<Figure size 432x288 with 8 Axes>"
            ],
            "image/png": "[encoded data removed]"
          },
          "metadata": {
            "needs_background": "light"
          }
        }
      ]
    }
  ],
  "metadata": {
    "colab": {
      "name": "Untitled1.ipynb",
      "provenance": []
    },
    "kernelspec": {
      "display_name": "Python 3",
      "name": "python3"
    },
    "language_info": {
      "name": "python"
    }
  },
  "nbformat": 4,
  "nbformat_minor": 0
}